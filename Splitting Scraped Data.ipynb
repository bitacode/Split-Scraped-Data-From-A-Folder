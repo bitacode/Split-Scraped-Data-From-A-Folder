{
 "cells": [
  {
   "cell_type": "markdown",
   "id": "73ed58bf",
   "metadata": {},
   "source": [
    "# Import libraries"
   ]
  },
  {
   "cell_type": "code",
   "execution_count": 1,
   "id": "76edf51a",
   "metadata": {},
   "outputs": [],
   "source": [
    "import glob\n",
    "import pandas as pd"
   ]
  },
  {
   "cell_type": "markdown",
   "id": "50da1d61",
   "metadata": {},
   "source": [
    "# Define variables"
   ]
  },
  {
   "cell_type": "code",
   "execution_count": 2,
   "id": "2ace5b17",
   "metadata": {},
   "outputs": [],
   "source": [
    "path = '../S2/tesis/Scraped/Movie Reviews/Merged/xlsx'\n",
    "excel_files = glob.glob(path + \"/*.xlsx\")"
   ]
  },
  {
   "cell_type": "markdown",
   "id": "cf933499",
   "metadata": {},
   "source": [
    "# Read excel files from defined folder"
   ]
  },
  {
   "cell_type": "code",
   "execution_count": 3,
   "id": "07dd196f",
   "metadata": {},
   "outputs": [],
   "source": [
    "df_list = (pd.read_excel(file) for file in excel_files)"
   ]
  },
  {
   "cell_type": "code",
   "execution_count": 4,
   "id": "d5a172b1",
   "metadata": {},
   "outputs": [],
   "source": [
    "big_df   = pd.concat(df_list, ignore_index=True)"
   ]
  },
  {
   "cell_type": "code",
   "execution_count": 6,
   "id": "1f11e114",
   "metadata": {},
   "outputs": [
    {
     "data": {
      "text/html": [
       "<div>\n",
       "<style scoped>\n",
       "    .dataframe tbody tr th:only-of-type {\n",
       "        vertical-align: middle;\n",
       "    }\n",
       "\n",
       "    .dataframe tbody tr th {\n",
       "        vertical-align: top;\n",
       "    }\n",
       "\n",
       "    .dataframe thead th {\n",
       "        text-align: right;\n",
       "    }\n",
       "</style>\n",
       "<table border=\"1\" class=\"dataframe\">\n",
       "  <thead>\n",
       "    <tr style=\"text-align: right;\">\n",
       "      <th></th>\n",
       "      <th>Movie ID</th>\n",
       "      <th>Movie Title</th>\n",
       "      <th>User Rating</th>\n",
       "      <th>Review Title</th>\n",
       "      <th>Username</th>\n",
       "      <th>Review</th>\n",
       "      <th>Unnamed: 0</th>\n",
       "    </tr>\n",
       "  </thead>\n",
       "  <tbody>\n",
       "    <tr>\n",
       "      <th>0</th>\n",
       "      <td>tt0045997</td>\n",
       "      <td>After the Curfew</td>\n",
       "      <td>7.0</td>\n",
       "      <td>A rarity well worth seeing</td>\n",
       "      <td>euroGary</td>\n",
       "      <td>I saw 'After the Curfew' ('Lewat Djam Malam' i...</td>\n",
       "      <td>NaN</td>\n",
       "    </tr>\n",
       "    <tr>\n",
       "      <th>1</th>\n",
       "      <td>tt0045997</td>\n",
       "      <td>After the Curfew</td>\n",
       "      <td>7.0</td>\n",
       "      <td>Rare and Worthwhile</td>\n",
       "      <td>TwinsWhoLikeMovies</td>\n",
       "      <td>Found this film at our local library on Blu-ra...</td>\n",
       "      <td>NaN</td>\n",
       "    </tr>\n",
       "    <tr>\n",
       "      <th>2</th>\n",
       "      <td>tt0045997</td>\n",
       "      <td>Lewat Djam Malam (Restorasi 2011-2012)</td>\n",
       "      <td>NaN</td>\n",
       "      <td>NaN</td>\n",
       "      <td>AdityaRassendrya</td>\n",
       "      <td>Terima Kasih Martin Scorsese yang telah memban...</td>\n",
       "      <td>NaN</td>\n",
       "    </tr>\n",
       "    <tr>\n",
       "      <th>3</th>\n",
       "      <td>tt0045997</td>\n",
       "      <td>Lewat Djam Malam (Restorasi 2011-2012)</td>\n",
       "      <td>NaN</td>\n",
       "      <td>NaN</td>\n",
       "      <td>RalfDudat</td>\n",
       "      <td>This has been on my DVD wishlist for a few yea...</td>\n",
       "      <td>NaN</td>\n",
       "    </tr>\n",
       "    <tr>\n",
       "      <th>4</th>\n",
       "      <td>tt0045997</td>\n",
       "      <td>Lewat Djam Malam (Restorasi 2011-2012)</td>\n",
       "      <td>NaN</td>\n",
       "      <td>NaN</td>\n",
       "      <td>SantoKlingon</td>\n",
       "      <td>Do'a yang terbaik untuk Mas Totot Alm ; Al-Fat...</td>\n",
       "      <td>NaN</td>\n",
       "    </tr>\n",
       "    <tr>\n",
       "      <th>...</th>\n",
       "      <td>...</td>\n",
       "      <td>...</td>\n",
       "      <td>...</td>\n",
       "      <td>...</td>\n",
       "      <td>...</td>\n",
       "      <td>...</td>\n",
       "      <td>...</td>\n",
       "    </tr>\n",
       "    <tr>\n",
       "      <th>52516</th>\n",
       "      <td>tt9900552</td>\n",
       "      <td>The Sacred Riana: Beginning</td>\n",
       "      <td>1.0</td>\n",
       "      <td>Not worth it</td>\n",
       "      <td>khairulhacker</td>\n",
       "      <td>Worst movie ever!!</td>\n",
       "      <td>NaN</td>\n",
       "    </tr>\n",
       "    <tr>\n",
       "      <th>52517</th>\n",
       "      <td>tt9900552</td>\n",
       "      <td>The Sacred Riana: Beginning</td>\n",
       "      <td>1.0</td>\n",
       "      <td>Don't waste your time guys!</td>\n",
       "      <td>fazren-23599</td>\n",
       "      <td>It is by far the worst horror movie ever. Bad ...</td>\n",
       "      <td>NaN</td>\n",
       "    </tr>\n",
       "    <tr>\n",
       "      <th>52518</th>\n",
       "      <td>tt9900552</td>\n",
       "      <td>The Sacred Riana: Beginning</td>\n",
       "      <td>10.0</td>\n",
       "      <td>A great and unique fantasy movie with horror e...</td>\n",
       "      <td>ScienceDiscoverer</td>\n",
       "      <td>I don't like horror movies. Frankly, I don't w...</td>\n",
       "      <td>NaN</td>\n",
       "    </tr>\n",
       "    <tr>\n",
       "      <th>52519</th>\n",
       "      <td>tt9900552</td>\n",
       "      <td>The Sacred Riana: Beginning</td>\n",
       "      <td>NaN</td>\n",
       "      <td>Where is it located</td>\n",
       "      <td>gibsontunga</td>\n",
       "      <td>I have been trying to get hold of this movie f...</td>\n",
       "      <td>NaN</td>\n",
       "    </tr>\n",
       "    <tr>\n",
       "      <th>52520</th>\n",
       "      <td>tt9900552</td>\n",
       "      <td>The Sacred Riana: Beginning</td>\n",
       "      <td>1.0</td>\n",
       "      <td>BAD ACTING!!</td>\n",
       "      <td>nsytie</td>\n",
       "      <td>Wtf is wrong with this movie , all actor and a...</td>\n",
       "      <td>NaN</td>\n",
       "    </tr>\n",
       "  </tbody>\n",
       "</table>\n",
       "<p>52521 rows × 7 columns</p>\n",
       "</div>"
      ],
      "text/plain": [
       "        Movie ID                             Movie Title  User Rating  \\\n",
       "0      tt0045997                        After the Curfew          7.0   \n",
       "1      tt0045997                        After the Curfew          7.0   \n",
       "2      tt0045997  Lewat Djam Malam (Restorasi 2011-2012)          NaN   \n",
       "3      tt0045997  Lewat Djam Malam (Restorasi 2011-2012)          NaN   \n",
       "4      tt0045997  Lewat Djam Malam (Restorasi 2011-2012)          NaN   \n",
       "...          ...                                     ...          ...   \n",
       "52516  tt9900552             The Sacred Riana: Beginning          1.0   \n",
       "52517  tt9900552             The Sacred Riana: Beginning          1.0   \n",
       "52518  tt9900552             The Sacred Riana: Beginning         10.0   \n",
       "52519  tt9900552             The Sacred Riana: Beginning          NaN   \n",
       "52520  tt9900552             The Sacred Riana: Beginning          1.0   \n",
       "\n",
       "                                            Review Title            Username  \\\n",
       "0                             A rarity well worth seeing            euroGary   \n",
       "1                                    Rare and Worthwhile  TwinsWhoLikeMovies   \n",
       "2                                                    NaN    AdityaRassendrya   \n",
       "3                                                    NaN           RalfDudat   \n",
       "4                                                    NaN        SantoKlingon   \n",
       "...                                                  ...                 ...   \n",
       "52516                                       Not worth it       khairulhacker   \n",
       "52517                        Don't waste your time guys!        fazren-23599   \n",
       "52518  A great and unique fantasy movie with horror e...   ScienceDiscoverer   \n",
       "52519                                Where is it located         gibsontunga   \n",
       "52520                                       BAD ACTING!!              nsytie   \n",
       "\n",
       "                                                  Review  Unnamed: 0  \n",
       "0      I saw 'After the Curfew' ('Lewat Djam Malam' i...         NaN  \n",
       "1      Found this film at our local library on Blu-ra...         NaN  \n",
       "2      Terima Kasih Martin Scorsese yang telah memban...         NaN  \n",
       "3      This has been on my DVD wishlist for a few yea...         NaN  \n",
       "4      Do'a yang terbaik untuk Mas Totot Alm ; Al-Fat...         NaN  \n",
       "...                                                  ...         ...  \n",
       "52516                                 Worst movie ever!!         NaN  \n",
       "52517  It is by far the worst horror movie ever. Bad ...         NaN  \n",
       "52518  I don't like horror movies. Frankly, I don't w...         NaN  \n",
       "52519  I have been trying to get hold of this movie f...         NaN  \n",
       "52520  Wtf is wrong with this movie , all actor and a...         NaN  \n",
       "\n",
       "[52521 rows x 7 columns]"
      ]
     },
     "execution_count": 6,
     "metadata": {},
     "output_type": "execute_result"
    }
   ],
   "source": [
    "big_df"
   ]
  },
  {
   "cell_type": "markdown",
   "id": "e1395336",
   "metadata": {},
   "source": [
    "# Split columns based on Movie ID"
   ]
  },
  {
   "cell_type": "code",
   "execution_count": 7,
   "id": "d760270d",
   "metadata": {},
   "outputs": [],
   "source": [
    "dfs = dict(tuple(big_df.groupby('Movie ID')))"
   ]
  },
  {
   "cell_type": "code",
   "execution_count": 8,
   "id": "61a4f0a1",
   "metadata": {},
   "outputs": [],
   "source": [
    "ids = ['tt11448138','tt1899353', 'tt15528292', 'tt16915972', 'tt2265171', 'tt6116856', 'tt0946998', 'tt21047870', 'tt7076834', 'tt18436986', 'tt9000302', 'tt17497250', 'tt5147214', 'tt5169582', 'tt15215918', 'tt4766568', 'tt10994712', 'tt18938680', 'tt21116308', 'tt1578873', 'tt0078871', 'tt10090058', 'tt8765496', 'tt0045997', 'tt2787302', 'tt13387422', 'tt11799822', 'tt1368116', 'tt13729220', 'tt13376972', 'tt0051885', 'tt11900398', 'tt8237172', 'tt13484872', 'tt11013610', 'tt10280220', 'tt10776270', 'tt21600496', 'tt0095483', 'tt16266336', 'tt2409300', 'tt10495746', 'tt0281048', 'tt5305352', 'tt18748928', 'tt14728292', 'tt9545904', 'tt12217814', 'tt17887826', 'tt12741494' , 'tt0441641', 'tt7572744', 'tt10485396', 'tt11127878', 'tt8517144', 'tt16288970', 'tt1042390', 'tt11075364', 'tt13628688', 'tt2085865', 'tt14403244', 'tt18750866', 'tt1495818', 'tt13353184', 'tt1288645', 'tt11936782', 'tt11804076', 'tt16306374', 'tt1301264', 'tt6506146', 'tt10640174', 'tt13834788', 'tt10698426', 'tt8065796', 'tt15724708', 'tt14011910', 'tt21080680', 'tt5923026', 'tt2171847', 'tt13039042', 'tt10645356', 'tt11710090', 'tt13081264', 'tt13540506', 'tt13550666', 'tt15107990', 'tt6409782', 'tt2083231', 'tt8512746', 'tt9900552', 'tt12593454', 'tt13409590', 'tt5514296', 'tt14954636', 'tt0395524', 'tt0307920', 'tt21100454', 'tt9511256', 'tt1445050', 'tt13984562', 'tt11936544', 'tt10816420', 'tt2589132', 'tt11313944', 'tt2182019', 'tt6730970', 'tt22477038', 'tt10011002', 'tt7981492', 'tt1576459', 'tt11162262', 'tt11835236', 'tt1537898', 'tt13580706', 'tt6366854', 'tt10540024', 'tt7521804', 'tt4911656', 'tt18561228', 'tt10340748', 'tt7088006', 'tt15741438', 'tt8900302', 'tt7076668', 'tt21249134', 'tt14176796', 'tt16277034', 'tt18291774', 'tt8690956', 'tt0104667', 'tt18163750', 'tt10300710', 'tt8948208', 'tt6496236', 'tt20217782', 'tt5882398', 'tt10975730', 'tt1989598', 'tt20783840', 'tt0335966', 'tt13642366', 'tt17634494', 'tt8359898', 'tt5057126', 'tt11853944', 'tt11799764', 'tt2692476', 'tt9435162', 'tt10276328','tt18080778', 'tt13728764', 'tt11968092', 'tt15788948', 'tt14827444', 'tt9044128', 'tt14607208', 'tt20873488', 'tt15157466', 'tt1059929', 'tt11271990', 'tt16793448', 'tt0288127', 'tt8250640', 'tt0459327', 'tt5687416', 'tt11749980', 'tt10015812', 'tt2225946', 'tt13429004', 'tt11289634', 'tt6880058', 'tt14792970', 'tt7777974', 'tt7885874', 'tt8024712', 'tt13574094', 'tt10773114', 'tt10726756', 'tt8960204', 'tt11799790', 'tt9146130', 'tt1046961', 'tt6917210', 'tt18312712', 'tt13586674', 'tt1657319', 'tt13369452', 'tt22136838', 'tt7981182', 'tt8890582', 'tt21249546', 'tt16298806', 'tt10643938', 'tt11912692', 'tt7161990', 'tt19636054', 'tt2713324', 'tt1198186', 'tt21288390', 'tt5882416', 'tt3418604', 'tt11754464', 'tt13393058', 'tt6011480', 'tt5104080', 'tt0893534', 'tt21022974', 'tt10656240', 'tt0107917', 'tt1507309', 'tt7843946', 'tt18341164', 'tt13392542', 'tt5065314', 'tt21098856']"
   ]
  },
  {
   "cell_type": "markdown",
   "id": "dd6c0f49",
   "metadata": {},
   "source": [
    "# Save files individually according to Movie ID"
   ]
  },
  {
   "cell_type": "code",
   "execution_count": 9,
   "id": "8f0c7676",
   "metadata": {},
   "outputs": [],
   "source": [
    "for files in ids:\n",
    "    save_to_csv = dfs[files]\n",
    "    save_to_csv.to_csv('../S2/tesis/Scraped/Movie Reviews/Merged/csv/'+str(files)+'.csv', index=False)"
   ]
  }
 ],
 "metadata": {
  "kernelspec": {
   "display_name": "Python 3 (ipykernel)",
   "language": "python",
   "name": "python3"
  },
  "language_info": {
   "codemirror_mode": {
    "name": "ipython",
    "version": 3
   },
   "file_extension": ".py",
   "mimetype": "text/x-python",
   "name": "python",
   "nbconvert_exporter": "python",
   "pygments_lexer": "ipython3",
   "version": "3.11.1"
  }
 },
 "nbformat": 4,
 "nbformat_minor": 5
}
